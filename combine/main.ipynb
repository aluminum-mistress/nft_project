{
 "cells": [
  {
   "cell_type": "code",
   "execution_count": 2,
   "metadata": {},
   "outputs": [],
   "source": [
    "import pandas as pd"
   ]
  },
  {
   "cell_type": "code",
   "execution_count": null,
   "metadata": {},
   "outputs": [],
   "source": [
    "head_raw = pd.read_csv('./head.csv')\n",
    "head_list= head_raw['id'].tolist()\n",
    "head_len = len(head_list)\n",
    "\n",
    "for head_i in range(head_len):\n",
    "    head_amount=int(head_raw.iloc[head_i,1])\n",
    "    head_list.remove(head_i)\n",
    "    for a in range(head_amount):\n",
    "        head_list.append(head_i)"
   ]
  },
  {
   "cell_type": "code",
   "execution_count": 6,
   "metadata": {},
   "outputs": [],
   "source": [
    "mouth_raw = pd.read_csv('./mouth.csv')\n",
    "mouth_list= mouth_raw['id'].tolist()\n",
    "mouth_len = len(mouth_list)\n",
    "\n",
    "for mouth_i in range(mouth_len):\n",
    "    mouth_amount=int(mouth_raw.iloc[mouth_i,1])\n",
    "    mouth_list.remove(mouth_i)\n",
    "    for a in range(mouth_amount):\n",
    "        mouth_list.append(mouth_i)"
   ]
  },
  {
   "cell_type": "code",
   "execution_count": 7,
   "metadata": {},
   "outputs": [],
   "source": [
    "eyes_raw = pd.read_csv('./eyes.csv')\n",
    "eyes_list= eyes_raw['id'].tolist()\n",
    "eyes_len = len(eyes_list)\n",
    "\n",
    "for eyes_i in range(eyes_len):\n",
    "    eyes_amount=int(eyes_raw.iloc[eyes_i,1])\n",
    "    eyes_list.remove(eyes_i)\n",
    "    for a in range(eyes_amount):\n",
    "        eyes_list.append(eyes_i)"
   ]
  },
  {
   "cell_type": "code",
   "execution_count": null,
   "metadata": {},
   "outputs": [],
   "source": [
    "clothes_raw = pd.read_csv('./clothes.csv')\n",
    "clothes_list= clothes_raw['id'].tolist()\n",
    "clothes_len = len(clothes_list)\n",
    "\n",
    "for clothes_i in range(clothes_len):\n",
    "    clothes_amount=int(clothes_raw.iloc[clothes_i,1])\n",
    "    clothes_list.remove(clothes_i)\n",
    "    for a in range(clothes_amount):\n",
    "        clothes_list.append(clothes_i)"
   ]
  }
 ],
 "metadata": {
  "interpreter": {
   "hash": "98590ff4fe04c8543246b2a01debd3de3c5ca9b666f43f1fa87d5110c692004c"
  },
  "kernelspec": {
   "display_name": "Python 3.10.0 64-bit",
   "language": "python",
   "name": "python3"
  },
  "language_info": {
   "codemirror_mode": {
    "name": "ipython",
    "version": 3
   },
   "file_extension": ".py",
   "mimetype": "text/x-python",
   "name": "python",
   "nbconvert_exporter": "python",
   "pygments_lexer": "ipython3",
   "version": "3.10.0"
  },
  "orig_nbformat": 4
 },
 "nbformat": 4,
 "nbformat_minor": 2
}
